{
  "nbformat": 4,
  "nbformat_minor": 0,
  "metadata": {
    "colab": {
      "name": "raedy.ipyn",
      "provenance": [],
      "collapsed_sections": [],
      "authorship_tag": "ABX9TyNiWnkT7YEQmk0i++ax/fEc",
      "include_colab_link": true
    },
    "kernelspec": {
      "name": "python3",
      "display_name": "Python 3"
    }
  },
  "cells": [
    {
      "cell_type": "markdown",
      "metadata": {
        "id": "view-in-github",
        "colab_type": "text"
      },
      "source": [
        "<a href=\"https://colab.research.google.com/github/doryunnim/machinelearning/blob/ready/raedy_ipyn.ipynb\" target=\"_parent\"><img src=\"https://colab.research.google.com/assets/colab-badge.svg\" alt=\"Open In Colab\"/></a>"
      ]
    },
    {
      "cell_type": "markdown",
      "metadata": {
        "id": "GTin4JglHzrO",
        "colab_type": "text"
      },
      "source": [
        "1. 학습하고자 하는 가설을 수학적 표현식으로 나타낸다.\n",
        "2. 가설의 성능을 측정할 수 있는 손실 함수를 정의한다.\n",
        "3. 손실 함수를 최소화 할 수 있는 학습 알고리즘을 설계한다."
      ]
    },
    {
      "cell_type": "code",
      "metadata": {
        "id": "oPtr0X3jOpxE",
        "colab_type": "code",
        "outputId": "3edcbcd0-629b-4bac-ff71-c57be00c22b0",
        "colab": {
          "base_uri": "https://localhost:8080/",
          "height": 122
        }
      },
      "source": [
        "import numpy as np\n",
        "print(np.__version__)\n",
        "\n",
        "my_arr = np.array([[10, 20, 30], [40, 50, 60]])\n",
        "print(my_arr)\n",
        "print(type(my_arr))\n",
        "print(my_arr[0][2])\n",
        "print(np.sum(my_arr))\n",
        "# 마지막 줄은 print() 함수를 사용하지 않아도 자동으로 결과가 출력된다."
      ],
      "execution_count": 0,
      "outputs": [
        {
          "output_type": "stream",
          "text": [
            "1.17.5\n",
            "[[10 20 30]\n",
            " [40 50 60]]\n",
            "<class 'numpy.ndarray'>\n",
            "30\n",
            "210\n"
          ],
          "name": "stdout"
        }
      ]
    },
    {
      "cell_type": "code",
      "metadata": {
        "id": "tmmH38TVBgCM",
        "colab_type": "code",
        "colab": {
          "base_uri": "https://localhost:8080/",
          "height": 122
        },
        "outputId": "e4743571-9193-465d-8651-8b0465d27ce1"
      },
      "source": [
        "import tensorflow as tf\n",
        "\n",
        "# 노드 생성하는 법 (상수)\n",
        "node1 = tf.constant([3,4,5,6,7,8], shape=[6])\n",
        "\n",
        "print(node1)\n",
        "\n",
        "# 임의의 값 노드 생성하는 법\n",
        "a = tf.placeholder(tf.float32)\n",
        "b = tf.placeholder(tf.float32)\n",
        "adder_node = a + b\n",
        "\n",
        "#더 복잡한 그래프 형태 만들기\n",
        "add_and_triple = adder_node * 3 # tf.multiply(adder_node, 3) 형태임\n",
        "\n",
        "# 텐서는 세션을 열어서 그래프를 실행한다\n",
        "sess = tf.Session()\n",
        "print(sess.run(node1))\n",
        "\n",
        "for i in range(5):\n",
        "  node3 = tf. add(node1[i], node1[i+1])\n",
        "\n",
        "print(sess.run(node3))\n",
        "\n",
        "# feed_dict는 그래프에 넣을 값을 Dictionary 형태로 명시하는 것이다.\n",
        "print(sess.run(adder_node, feed_dict={a: 3, b: 4.5}))\n",
        "print(sess.run(adder_node, feed_dict={a: [1, 3], b:[2, 4]}))\n",
        "\n",
        "print(sess.run(add_and_triple, feed_dict={a: 3, b: 4.5}))\n",
        "sess.close()"
      ],
      "execution_count": 25,
      "outputs": [
        {
          "output_type": "stream",
          "text": [
            "Tensor(\"Const_20:0\", shape=(6,), dtype=int32)\n",
            "[3 4 5 6 7 8]\n",
            "15\n",
            "7.5\n",
            "[3. 7.]\n",
            "22.5\n"
          ],
          "name": "stdout"
        }
      ]
    },
    {
      "cell_type": "code",
      "metadata": {
        "id": "KTLz4yRULX2d",
        "colab_type": "code",
        "colab": {
          "base_uri": "https://localhost:8080/",
          "height": 34
        },
        "outputId": "15994620-dfcb-4903-d014-f2d13e659ba2"
      },
      "source": [
        "import tensorflow as tf\n",
        "import time\n",
        "from tensorflow.keras.callbacks import TensorBoard\n",
        "\n",
        "W = tf.Variable(tf.random_normal([1]))\n",
        "b = tf.Variable(tf.random_normal([1]))\n",
        "x = tf.placeholder(tf.float32)\n",
        "linear_model = W*x + b\n",
        "# True Value => y \n",
        "y = tf.placeholder(tf.float32)\n",
        "# 손실 함수 정의\n",
        "loss = tf.reduce_mean(tf.square(linear_model - y)) # mean{(y^ - y)^2}\n",
        "\n",
        "tf.summary.scalar('loss', loss)\n",
        "\n",
        "optimizer = tf.train.GradientDescentOptimizer(0.01)\n",
        "train_step = optimizer.minimize(loss)\n",
        "\n",
        "x_train = [1, 2, 3, 4]\n",
        "y_train = [6, 12, 18, 24]\n",
        "\n",
        "sess = tf.Session()\n",
        "sess.run(tf.global_variables_initializer())\n",
        "\n",
        "for i in range(1000):\n",
        "  sess.run(train_step, feed_dict={x: x_train, y: y_train})\n",
        "\n",
        "x_test = [3.5, 5, 5.5, 6]\n",
        "\n",
        "print(sess.run(linear_model, feed_dict={x: x_test}))\n",
        "\n",
        "sess.close()"
      ],
      "execution_count": 63,
      "outputs": [
        {
          "output_type": "stream",
          "text": [
            "[20.988756 29.95863  32.94859  35.93855 ]\n"
          ],
          "name": "stdout"
        }
      ]
    },
    {
      "cell_type": "code",
      "metadata": {
        "id": "3ut3xqK2PlPD",
        "colab_type": "code",
        "outputId": "7ccef4f7-4d78-4023-e9d5-60e8d12ebc48",
        "colab": {
          "base_uri": "https://localhost:8080/",
          "height": 265
        }
      },
      "source": [
        "import matplotlib.pyplot as plt\n",
        "\n",
        "# plt.plot([1, 2, 3, 4, 5], [1, 4, 9, 16 ,25])\n",
        "# plt.show()\n",
        "\n",
        "# plt.scatter([1, 2, 3, 4, 5], [1, 4, 9, 16, 25])\n",
        "# plt.show()\n",
        "\n",
        "x = np.random.randn(1000)\n",
        "y = np.random.randn(1000)\n",
        "plt.scatter(x, y)\n",
        "plt.show()"
      ],
      "execution_count": 0,
      "outputs": [
        {
          "output_type": "display_data",
          "data": {
            "image/png": "[encoded data removed]",
            "text/plain": [
              "<Figure size 432x288 with 1 Axes>"
            ]
          },
          "metadata": {
            "tags": []
          }
        }
      ]
    },
    {
      "cell_type": "markdown",
      "metadata": {
        "id": "Yk0TAj5kZHem",
        "colab_type": "text"
      },
      "source": [
        "선형 회귀는 머신러닝 알고리즘 중 하나입니다.\n"
      ]
    },
    {
      "cell_type": "code",
      "metadata": {
        "id": "hYxZJ8zEZdzJ",
        "colab_type": "code",
        "outputId": "e6032af8-c3a0-445c-a2a3-791d5f97080b",
        "colab": {
          "base_uri": "https://localhost:8080/",
          "height": 175
        }
      },
      "source": [
        "from sklearn.datasets import load_diabetes\n",
        "import matplotlib.pyplot as plt\n",
        "diabetes = load_diabetes()\n",
        "print(diabetes.data.shape, diabetes.target.shape)\n",
        "# print(diabetes.data[0:3])\n",
        "\n",
        "# plt.scatter(diabetes.data[:, 2], diabetes.target)\n",
        "# plt.xlabel('x')\n",
        "# plt.ylabel('y')\n",
        "# plt.show()\n",
        "\n",
        "x = diabetes.data[:, 2]\n",
        "y = diabetes.target\n",
        "\n",
        "w = 1.0\n",
        "b = 1.0\n",
        "y_hat = x[0] * w + b\n",
        "print(y_hat)\n",
        "print(y[0])\n",
        "# w에 대한 변화율로 절편 업데이트 하기\n",
        "w_inc = w + 0.1\n",
        "y_hat_inc = x[0] * w_inc + b\n",
        "print(y_hat_inc)\n",
        "\n",
        "w_rate = (y_hat_inc - y_hat) / (w_inc - w)\n",
        "print(w_rate)\n",
        "\n",
        "w_new = w + w_rate\n",
        "print(w_new)\n",
        "# b에 대한 변화율로 절편 업데이트 하기\n",
        "b_inc = b + 0.1\n",
        "y_hat_inc = x[0] * w + b_inc\n",
        "print(y_hat_inc)\n",
        "\n",
        "b_rate = (y_hat_inc - y_hat) / (b_inc - b)\n",
        "print(b_rate)\n",
        "\n",
        "b_new = b + 1\n",
        "print(b_new)\n",
        "###\n",
        "err = y[0] - y_hat \n",
        "w_new = w + w_rate * err\n",
        "b_new = b + 1 * err\n",
        "print(w_new, b_new)\n",
        "\n",
        "y_hat = x[1] * w_new + b_new\n",
        "err = y[1] - y_hat\n",
        "w_rate = x[1]\n",
        "w_new = w_new + w_rate * err\n",
        "b_new = b_new + 1 * err\n",
        "print(w_new, b_new)\n",
        "\n",
        "for x_i, y_i in zip(x, y):\n",
        "  y_hat = x_i * w + b\n",
        "  err = y_i - y_hat\n",
        "  w_rate = x_i\n",
        "  w = w + w_rate * err\n",
        "  b = b + 1 * err\n",
        "print(w, b)\n",
        "\n",
        "plt.scatter(x, y)\n",
        "pt1 = (-0.1, -0.1 * w + b)\n",
        "pt2 = (0.15, 0.15 * w + b)\n",
        "plt.plot([pt1[0], pt2[0]], [pt1[1], pt2[1] ] )\n",
        "plt.show()"
      ],
      "execution_count": 0,
      "outputs": [
        {
          "output_type": "stream",
          "text": [
            "(442, 10) (442,)\n",
            "1.0616962065186886\n",
            "151.0\n",
            "1.0678658271705574\n",
            "0.061696206518688734\n",
            "1.0616962065186888\n",
            "1.1616962065186887\n",
            "1.0\n",
            "2.0\n"
          ],
          "name": "stdout"
        }
      ]
    },
    {
      "cell_type": "code",
      "metadata": {
        "id": "WGYAEW2ofRXm",
        "colab_type": "code",
        "outputId": "71e46336-19d3-4fd4-d122-4872b0772f0c",
        "colab": {
          "base_uri": "https://localhost:8080/",
          "height": 332
        }
      },
      "source": [
        "from sklearn.datasets import load_diabetes\n",
        "import matplotlib.pyplot as plt\n",
        "diabetes = load_diabetes()\n",
        "print(diabetes.data.shape, diabetes.target.shape)\n",
        "\n",
        "x = diabetes.data[:,2]\n",
        "y = diabetes.target\n",
        "\n",
        "w = 0.1\n",
        "b = 0.1\n",
        "\n",
        "for i in range(1, 100):\n",
        "  for x_i, y_i in zip(x, y):\n",
        "    y_hat = x_i * w + b\n",
        "    err = y_i - y_hat\n",
        "    w_rate = x_i\n",
        "    w = w + w_rate * err\n",
        "    b = b + 1 * err\n",
        "print(w, b)\n",
        "\n",
        "x_new = 0.1652\n",
        "y_pred = x_new * w + b\n",
        "print(y_pred)\n",
        "\n",
        "plt.scatter(x, y)\n",
        "plt.scatter(x_new, y_pred)\n",
        "pt1 = (-0.1, -0.1 * w + b)\n",
        "pt2 = (0.15, 0.15 * w + b)\n",
        "plt.plot([pt1[0], pt2[0]], [pt1[1], pt2[1]])\n",
        "plt.xlabel('x')\n",
        "plt.ylabel('y')\n",
        "plt.show()"
      ],
      "execution_count": 0,
      "outputs": [
        {
          "output_type": "stream",
          "text": [
            "(442, 10) (442,)\n",
            "913.5973364345905 123.39414383177204\n",
            "274.3204238107664\n"
          ],
          "name": "stdout"
        },
        {
          "output_type": "display_data",
          "data": {
            "image/png": "[encoded data removed]",
            "text/plain": [
              "<Figure size 432x288 with 1 Axes>"
            ]
          },
          "metadata": {
            "tags": []
          }
        }
      ]
    }
  ]
}